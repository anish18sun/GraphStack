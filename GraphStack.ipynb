{
 "cells": [
  {
   "cell_type": "markdown",
   "metadata": {},
   "source": [
    "# GraphStack\n",
    "\n",
    "This notebook creates a simple python stack to create graph structures within the database(using postgresql and psycopg) and to manipulate them using networkx."
   ]
  },
  {
   "cell_type": "code",
   "execution_count": 31,
   "metadata": {
    "collapsed": false
   },
   "outputs": [
    {
     "name": "stdout",
     "output_type": "stream",
     "text": [
      "Database connection successful\n",
      "Got the cursor for this postgres connection\n"
     ]
    },
    {
     "name": "stderr",
     "output_type": "stream",
     "text": [
      "ERROR: An unexpected error occurred while tokenizing input\n",
      "The following traceback may be corrupted or invalid\n",
      "The error message is: ('EOF in multi-line string', (1, 39))\n",
      "\n"
     ]
    },
    {
     "ename": "ProgrammingError",
     "evalue": "relation \"company\" already exists\n",
     "output_type": "error",
     "traceback": [
      "\u001b[1;31m---------------------------------------------------------------------------\u001b[0m",
      "\u001b[1;31mProgrammingError\u001b[0m                          Traceback (most recent call last)",
      "\u001b[1;32m<ipython-input-31-bc608e3387b7>\u001b[0m in \u001b[0;36m<module>\u001b[1;34m()\u001b[0m\n\u001b[0;32m     11\u001b[0m     \u001b[0mName\u001b[0m         \u001b[0mVARCHAR\u001b[0m\u001b[1;33m(\u001b[0m\u001b[1;36m20\u001b[0m\u001b[1;33m)\u001b[0m \u001b[0mNOT\u001b[0m \u001b[0mNULL\u001b[0m\u001b[1;33m,\u001b[0m\u001b[1;33m\u001b[0m\u001b[0m\n\u001b[0;32m     12\u001b[0m     \u001b[0mDesignation\u001b[0m  \u001b[0mCHAR\u001b[0m\u001b[1;33m(\u001b[0m\u001b[1;36m3\u001b[0m\u001b[1;33m)\u001b[0m     \u001b[0mNOT\u001b[0m \u001b[0mNULL\u001b[0m\u001b[1;33m,\u001b[0m\u001b[1;33m\u001b[0m\u001b[0m\n\u001b[1;32m---> 13\u001b[1;33m     DependId     INT         NOT NULL);''')\n\u001b[0m\u001b[0;32m     14\u001b[0m \u001b[0mprint\u001b[0m\u001b[1;33m(\u001b[0m\u001b[1;34m\"Table created successfully\"\u001b[0m\u001b[1;33m)\u001b[0m\u001b[1;33m\u001b[0m\u001b[0m\n\u001b[0;32m     15\u001b[0m \u001b[1;33m\u001b[0m\u001b[0m\n",
      "\u001b[1;31mProgrammingError\u001b[0m: relation \"company\" already exists\n"
     ]
    }
   ],
   "source": [
    "# import psycopg2\n",
    "\n",
    "conn = psycopg2.connect(database=\"reddb\", user=\"postgres\", password=\"postgres\", host=\"127.0.0.1\", port=\"5433\")\n",
    "print(\"Database connection successful\")\n",
    "\n",
    "cursor = conn.cursor()\n",
    "print(\"Got the cursor for this postgres connection\")\n",
    "\n",
    "cursor.execute('''CREATE TABLE COMPANY (\n",
    "    id           INT PRIMARY KEY NOT NULL,\n",
    "    Name         VARCHAR(20) NOT NULL,\n",
    "    Designation  CHAR(3)     NOT NULL,\n",
    "    DependId     INT         NOT NULL);''')\n",
    "print(\"Table created successfully\")\n",
    "\n",
    "conn.commit()\n",
    "     \n"
   ]
  },
  {
   "cell_type": "code",
   "execution_count": 50,
   "metadata": {
    "collapsed": false
   },
   "outputs": [
    {
     "name": "stdout",
     "output_type": "stream",
     "text": [
      "inserted into table successfully\n"
     ]
    }
   ],
   "source": [
    "# insert into the table, the table holds recursive relations, the root node will have dependId = 0\n",
    "\n",
    "cursor.execute(\"INSERT INTO COMPANY(id, Name, Designation, DependId) VALUES (1, 'Eng1', 'Eng', 6)\")\n",
    "cursor.execute(\"INSERT INTO COMPANY(id, Name, Designation, DependId) VALUES (2, 'Eng2', 'Eng', 6)\")\n",
    "cursor.execute(\"INSERT INTO COMPANY(id, Name, Designation, DependId) VALUES (3, 'Eng3', 'Eng', 6)\")\n",
    "cursor.execute(\"INSERT INTO COMPANY(id, Name, Designation, DependId) VALUES (4, 'Eng4', 'Eng', 7)\")\n",
    "cursor.execute(\"INSERT INTO COMPANY(id, Name, Designation, DependId) VALUES (5, 'Eng5', 'Eng', 7)\")\n",
    "cursor.execute(\"INSERT INTO COMPANY(id, Name, Designation, DependId) VALUES (6, 'Pro1', 'PrM', 8)\")\n",
    "cursor.execute(\"INSERT INTO COMPANY(id, Name, Designation, DependId) VALUES (7, 'Pro2', 'PrM', 8)\")\n",
    "cursor.execute(\"INSERT INTO COMPANY(id, Name, Designation, DependId) VALUES (8, 'CTO1', 'CTO', 0)\")\n",
    "\n",
    "print(\"inserted into table successfully\")"
   ]
  },
  {
   "cell_type": "code",
   "execution_count": 35,
   "metadata": {
    "collapsed": false
   },
   "outputs": [
    {
     "name": "stdout",
     "output_type": "stream",
     "text": [
      "Not Printing\n",
      "1 Eng1 Eng 6 \n",
      "\n",
      "Not Printing\n",
      "2 Eng2 Eng 6 \n",
      "\n",
      "Not Printing\n",
      "3 Eng3 Eng 6 \n",
      "\n",
      "Not Printing\n",
      "4 Eng4 Eng 7 \n",
      "\n",
      "Not Printing\n",
      "5 Eng5 Eng 7 \n",
      "\n",
      "Not Printing\n",
      "6 Pro1 PrM 8 \n",
      "\n",
      "Not Printing\n",
      "7 Pro2 PrM 8 \n",
      "\n",
      "Not Printing\n",
      "8 CTO1 CTO 0 \n",
      "\n"
     ]
    }
   ],
   "source": [
    "# try to retrieve from the table\n",
    "\n",
    "cursor.execute(\"SELECT id, name, Designation, DependId FROM COMPANY\")\n",
    "rows = cursor.fetchall()\n",
    "for row in rows :\n",
    "    print(\"Not Printing\")\n",
    "    print(row[0], row[1], row[2], row[3], \"\\n\")\n"
   ]
  },
  {
   "cell_type": "code",
   "execution_count": 54,
   "metadata": {
    "collapsed": false
   },
   "outputs": [
    {
     "name": "stdout",
     "output_type": "stream",
     "text": [
      "Printing\n",
      "8 CTO1 \n",
      "\n",
      "Printing\n",
      "6 Pro1 \n",
      "\n",
      "Printing\n",
      "7 Pro2 \n",
      "\n",
      "Printing\n",
      "1 Eng1 \n",
      "\n",
      "Printing\n",
      "2 Eng2 \n",
      "\n",
      "Printing\n",
      "3 Eng3 \n",
      "\n",
      "Printing\n",
      "4 Eng4 \n",
      "\n",
      "Printing\n",
      "5 Eng5 \n",
      "\n"
     ]
    }
   ],
   "source": [
    "# perform recursive CTE on the table to get the graph structure starting from the root\n",
    "\n",
    "cursor.execute('''WITH RECURSIVE traverse AS(\n",
    "    SELECT id, Name from COMPANY\n",
    "    WHERE id = 8\n",
    "    UNION\n",
    "    SELECT COMPANY.id, COMPANY.Name from COMPANY, traverse\n",
    "    WHERE COMPANY.DependId = traverse.id)\n",
    "    SELECT id, Name from traverse;\n",
    "    ''')\n",
    "\n",
    "recursive_rows = cursor.fetchall()\n",
    "for row in recursive_rows :\n",
    "    print(\"Printing\")\n",
    "    print(row[0], row[1], \"\\n\")\n"
   ]
  },
  {
   "cell_type": "code",
   "execution_count": 56,
   "metadata": {
    "collapsed": true
   },
   "outputs": [],
   "source": [
    "# roll back the current transaction, due to previous error\n",
    "# conn.rollback()\n",
    "\n",
    "# conn.commit()\n",
    "\n",
    "conn.close()\n"
   ]
  },
  {
   "cell_type": "code",
   "execution_count": 13,
   "metadata": {
    "collapsed": true
   },
   "outputs": [],
   "source": [
    "import networkx"
   ]
  },
  {
   "cell_type": "code",
   "execution_count": null,
   "metadata": {
    "collapsed": true
   },
   "outputs": [],
   "source": []
  }
 ],
 "metadata": {
  "kernelspec": {
   "display_name": "Python 3",
   "language": "python",
   "name": "python3"
  },
  "language_info": {
   "codemirror_mode": {
    "name": "ipython",
    "version": 3
   },
   "file_extension": ".py",
   "mimetype": "text/x-python",
   "name": "python",
   "nbconvert_exporter": "python",
   "pygments_lexer": "ipython3",
   "version": "3.4.5"
  }
 },
 "nbformat": 4,
 "nbformat_minor": 0
}
