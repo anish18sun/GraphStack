{
 "cells": [
  {
   "cell_type": "markdown",
   "metadata": {},
   "source": [
    "# GraphStack\n",
    "\n",
    "This notebook creates a simple python stack to create graph structures within the database(using postgresql and psycopg) and to manipulate them using networkx."
   ]
  },
  {
   "cell_type": "code",
   "execution_count": 20,
   "metadata": {
    "collapsed": false
   },
   "outputs": [
    {
     "name": "stdout",
     "output_type": "stream",
     "text": [
      "Database connection successful\n",
      "Got the cursor for this postgres connection\n"
     ]
    }
   ],
   "source": [
    "import psycopg2\n",
    "\n",
    "conn = psycopg2.connect(database=\"reddb\", user=\"postgres\", password=\"postgres\", host=\"127.0.0.1\", port=\"5433\")\n",
    "print(\"Database connection successful\")\n",
    "\n",
    "cursor = conn.cursor()\n",
    "print(\"Got the cursor for this postgres connection\")"
   ]
  },
  {
   "cell_type": "code",
   "execution_count": 27,
   "metadata": {
    "collapsed": false
   },
   "outputs": [
    {
     "name": "stdout",
     "output_type": "stream",
     "text": [
      "inserted into table successfully\n"
     ]
    }
   ],
   "source": [
    "# create the table for the company hierarchy\n",
    "\n",
    "cursor.execute('''CREATE TABLE COMPANY (\n",
    "    id           INT PRIMARY KEY NOT NULL,\n",
    "    Name         VARCHAR(20) NOT NULL,\n",
    "    Designation  CHAR(3)     NOT NULL,\n",
    "    DOJ          DATE        NOT NULL,\n",
    "    DependId     INT         NOT NULL);''')\n",
    "print(\"Table created successfully\")\n",
    "\n",
    "insert into the table, the table holds recursive relations, the root node will have dependId = 0\n",
    "\n",
    "cursor.execute(\"INSERT INTO COMPANY(id, Name, Designation, DOJ, DependId) VALUES (1, 'Eng1', 'Eng', '1997-09-01', 6)\")\n",
    "cursor.execute(\"INSERT INTO COMPANY(id, Name, Designation, DOJ, DependId) VALUES (2, 'Eng2', 'Eng', '1995-04-25', 6)\")\n",
    "cursor.execute(\"INSERT INTO COMPANY(id, Name, Designation, DOJ, DependId) VALUES (3, 'Eng3', 'Eng', '2003-04-12', 6)\")\n",
    "cursor.execute(\"INSERT INTO COMPANY(id, Name, Designation, DOJ, DependId) VALUES (4, 'Eng4', 'Eng', '2001-05-21', 7)\")\n",
    "cursor.execute(\"INSERT INTO COMPANY(id, Name, Designation, DOJ, DependId) VALUES (5, 'Eng5', 'Eng', '2002-03-16', 7)\")\n",
    "cursor.execute(\"INSERT INTO COMPANY(id, Name, Designation, DOJ, DependId) VALUES (6, 'Pro1', 'PrM', '2005-05-12', 8)\")\n",
    "cursor.execute(\"INSERT INTO COMPANY(id, Name, Designation, DOJ, DependId) VALUES (7, 'Pro2', 'PrM', '2006-09-11', 8)\")\n",
    "cursor.execute(\"INSERT INTO COMPANY(id, Name, Designation, DOJ, DependId) VALUES (8, 'CTO1', 'CTO', '2007-10-02', 0)\")\n",
    "print(\"inserted into table successfully\")\n",
    "\n",
    "conn.commit()"
   ]
  },
  {
   "cell_type": "code",
   "execution_count": 28,
   "metadata": {
    "collapsed": false
   },
   "outputs": [
    {
     "name": "stdout",
     "output_type": "stream",
     "text": [
      "1 Eng1 Eng 1997-09-01 6 \n",
      "\n",
      "2 Eng2 Eng 1995-04-25 6 \n",
      "\n",
      "3 Eng3 Eng 2003-04-12 6 \n",
      "\n",
      "4 Eng4 Eng 2001-05-21 7 \n",
      "\n",
      "5 Eng5 Eng 2002-03-16 7 \n",
      "\n",
      "6 Pro1 PrM 2005-05-12 8 \n",
      "\n",
      "7 Pro2 PrM 2006-09-11 8 \n",
      "\n",
      "8 CTO1 CTO 2007-10-02 0 \n",
      "\n"
     ]
    }
   ],
   "source": [
    "# try to retrieve from the table\n",
    "\n",
    "cursor.execute(\"SELECT * FROM COMPANY\")\n",
    "rows = cursor.fetchall()\n",
    "for row in rows :\n",
    "    print(row[0], row[1], row[2], row[3], row[4], \"\\n\")\n"
   ]
  },
  {
   "cell_type": "code",
   "execution_count": 29,
   "metadata": {
    "collapsed": false
   },
   "outputs": [
    {
     "name": "stdout",
     "output_type": "stream",
     "text": [
      "8 CTO1 \n",
      "\n",
      "6 Pro1 \n",
      "\n",
      "7 Pro2 \n",
      "\n",
      "1 Eng1 \n",
      "\n",
      "2 Eng2 \n",
      "\n",
      "3 Eng3 \n",
      "\n",
      "4 Eng4 \n",
      "\n",
      "5 Eng5 \n",
      "\n"
     ]
    }
   ],
   "source": [
    "# perform recursive CTE on the table to get the graph structure starting from the root\n",
    "\n",
    "cursor.execute('''WITH RECURSIVE traverse AS(\n",
    "    SELECT id, Name from COMPANY\n",
    "    WHERE id = 8\n",
    "    UNION\n",
    "    SELECT COMPANY.id, COMPANY.Name from COMPANY, traverse\n",
    "    WHERE COMPANY.DependId = traverse.id)\n",
    "    SELECT id, Name from traverse;\n",
    "    ''')\n",
    "\n",
    "recursive_rows = cursor.fetchall()\n",
    "for row in recursive_rows :\n",
    "    print(row[0], row[1], \"\\n\")\n",
    "\n",
    "# conn.close()"
   ]
  },
  {
   "cell_type": "markdown",
   "metadata": {
    "collapsed": true
   },
   "source": [
    "# NetworkX Graphs"
   ]
  },
  {
   "cell_type": "code",
   "execution_count": 30,
   "metadata": {
    "collapsed": false
   },
   "outputs": [
    {
     "name": "stdout",
     "output_type": "stream",
     "text": [
      "The graph in edge representation :  [(1, 6), (2, 6), (3, 6), (4, 7), (5, 7), (6, 8), (7, 8)]\n",
      "\n",
      "Printing the attributes of nodes :-\n",
      "Name : Eng1 , Date of Joining : 1997-09-01\n",
      "Name : Eng2 , Date of Joining : 1995-04-25\n",
      "Name : Eng3 , Date of Joining : 2003-04-12\n",
      "Name : Eng4 , Date of Joining : 2001-05-21\n",
      "Name : Eng5 , Date of Joining : 2002-03-16\n",
      "Name : Pro1 , Date of Joining : 2005-05-12\n",
      "Name : Pro2 , Date of Joining : 2006-09-11\n",
      "Name : CTO1 , Date of Joining : 2007-10-02\n",
      "\n",
      "The shortest path from node(1) to node(8) :  [1, 6, 8]\n",
      "\n",
      "The nodes whose dates ar greater than the current nodes value :- \n",
      "(6, {'name': 'Pro1', 'doj': datetime.date(2005, 5, 12), 'designation': 'PrM'})\n",
      "(7, {'name': 'Pro2', 'doj': datetime.date(2006, 9, 11), 'designation': 'PrM'})\n",
      "(8, {'name': 'CTO1', 'doj': datetime.date(2007, 10, 2), 'designation': 'CTO'})\n"
     ]
    }
   ],
   "source": [
    "# manipulate the graph using networkx\n",
    "import networkx as nx\n",
    "from datetime import date\n",
    "\n",
    "compGraph = nx.DiGraph()\n",
    "\n",
    "for row in rows :                           # loop to add nodes to the graph\n",
    "    compGraph.add_node(row[0], name=row[1], designation=row[2], doj=row[3])\n",
    "for row in rows :                           # loop to connect nodes in the graph\n",
    "     if row[4] != 0 :\n",
    "        compGraph.add_edge(row[0], row[4])\n",
    "\n",
    "print(\"The graph in edge representation : \", compGraph.edges())\n",
    "\n",
    "# print the attributes of nodes, explicitly\n",
    "print(\"\\nPrinting the attributes of nodes :-\")\n",
    "for node in compGraph.nodes(data=True) :\n",
    "    print(\"Name :\", node[1]['name'], \", Date of Joining :\", node[1]['doj'])\n",
    "\n",
    "# compute the shortest path between given edges\n",
    "short_path = nx.shortest_path(compGraph, source=1, target=8)\n",
    "print(\"\\nThe shortest path from node(1) to node(8) : \", short_path)\n",
    "\n",
    "# date comparison function to determine if date2 is greater than, less than or equal to date1\n",
    "def dateCompare(date1, date2) :\n",
    "    return date2.toordinal() > date1.toordinal()\n",
    "\n",
    "# get the nodes with joining date less than the current node(=3) value\n",
    "node_date = compGraph.node[3]['doj']\n",
    "print(\"\\nThe nodes whose dates ar greater than the current nodes value :- \")\n",
    "for node in compGraph.nodes(data=True) :\n",
    "    if dateCompare(node_date, node[1]['doj']) :\n",
    "        print(node)\n",
    "\n",
    "# networkx complete"
   ]
  },
  {
   "cell_type": "code",
   "execution_count": 33,
   "metadata": {
    "collapsed": false
   },
   "outputs": [],
   "source": [
    "# read csv file and create graph in-memory\n",
    "# import csv\n",
    "edges = []\n",
    "csvfile = open('/home/anish/Development/GraphStack/GraphData.csv', 'r')\n",
    "filereader = csv.reader(csvfile, delimiter=',', quotechar='\\'')\n",
    "for row in filereader :                       # loop to add nodes to graph\n",
    "    compGraph.add_node(int(row[0]), name=row[1], designation=row[2], doj=date(int(row[3][0:4]), int(row[3][5:7]),\n",
    "                                                                              int(row[3][8:]) ))\n",
    "    edges.append((int(row[0]), int(row[4])))\n",
    "\n",
    "for edge in edges :                           # loop to add edges to graph\n",
    "    if(compGraph.__contains__(edge[1])) :\n",
    "        compGraph.add_edge(edge[0], edge[1])\n"
   ]
  },
  {
   "cell_type": "code",
   "execution_count": 47,
   "metadata": {
    "collapsed": false
   },
   "outputs": [
    {
     "name": "stdout",
     "output_type": "stream",
     "text": [
      "Saved in-memory graph to database\n",
      "\n",
      "Recursive traversal of the graph after inserting data :-\n",
      "8 CTO1 \n",
      "\n",
      "6 Pro1 \n",
      "\n",
      "7 Pro2 \n",
      "\n",
      "15 Pro3 \n",
      "\n",
      "16 Pro4 \n",
      "\n",
      "1 Eng1 \n",
      "\n",
      "2 Eng2 \n",
      "\n",
      "3 Eng3 \n",
      "\n",
      "4 Eng4 \n",
      "\n",
      "5 Eng5 \n",
      "\n",
      "9 Eng6 \n",
      "\n",
      "10 Eng7 \n",
      "\n",
      "11 Eng8 \n",
      "\n",
      "12 Eng9 \n",
      "\n",
      "13 Eng10 \n",
      "\n",
      "14 Eng11 \n",
      "\n"
     ]
    }
   ],
   "source": [
    "# add the in-memory graph to database\n",
    "\n",
    "for new_node in edges :\n",
    "    id = str(new_node[0])\n",
    "    doj = compGraph.node[new_node[0]]['doj'].isoformat()\n",
    "    name = compGraph.node[new_node[0]]['name']\n",
    "    desgn = compGraph.node[new_node[0]]['designation']\n",
    "    depenId = str(new_node[1])\n",
    "    value_str = \"%s, '%s', '%s', '%s', %s\" %(id, name, desgn, doj, depenId)\n",
    "\n",
    "    cursor.execute(\"INSERT INTO COMPANY(id, Name, Designation, DOJ, DependId) VALUES (\" + value_str + \")\")\n",
    "\n",
    "print(\"Saved in-memory graph to database\")\n",
    "\n",
    "# check the new addititons by performing recursive CTE\n",
    "\n",
    "print(\"\\nRecursive traversal of the graph after inserting data :-\")\n",
    "cursor.execute('''WITH RECURSIVE traverse AS(\n",
    "    SELECT id, Name from COMPANY\n",
    "    WHERE id = 8\n",
    "    UNION\n",
    "    SELECT COMPANY.id, COMPANY.Name from COMPANY, traverse\n",
    "    WHERE COMPANY.DependId = traverse.id)\n",
    "    SELECT id, Name from traverse;\n",
    "    ''')\n",
    "\n",
    "recursive_rows = cursor.fetchall()\n",
    "for row in recursive_rows :\n",
    "    print(row[0], row[1], \"\\n\")\n",
    "\n",
    "# conn.close()"
   ]
  },
  {
   "cell_type": "code",
   "execution_count": 48,
   "metadata": {
    "collapsed": false
   },
   "outputs": [],
   "source": [
    "import matplotlib.pyplot as plt\n",
    "\n",
    "# draw the graph\n",
    "nx.draw_networkx(compGraph, node_color=\"blue\", edge_color=\"blue\", font_color=\"white\")\n",
    "plt.show()"
   ]
  },
  {
   "cell_type": "code",
   "execution_count": 49,
   "metadata": {
    "collapsed": true
   },
   "outputs": [],
   "source": [
    "# flask-task"
   ]
  },
  {
   "cell_type": "code",
   "execution_count": null,
   "metadata": {
    "collapsed": true
   },
   "outputs": [],
   "source": []
  }
 ],
 "metadata": {
  "kernelspec": {
   "display_name": "Python 3",
   "language": "python",
   "name": "python3"
  },
  "language_info": {
   "codemirror_mode": {
    "name": "ipython",
    "version": 3
   },
   "file_extension": ".py",
   "mimetype": "text/x-python",
   "name": "python",
   "nbconvert_exporter": "python",
   "pygments_lexer": "ipython3",
   "version": "3.4.5"
  }
 },
 "nbformat": 4,
 "nbformat_minor": 0
}
